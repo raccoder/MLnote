{
 "cells": [
  {
   "cell_type": "code",
   "execution_count": 2,
   "metadata": {},
   "outputs": [],
   "source": [
    "import numpy as np"
   ]
  },
  {
   "cell_type": "code",
   "execution_count": 1,
   "metadata": {},
   "outputs": [
    {
     "ename": "SyntaxError",
     "evalue": "incomplete input (3093690210.py, line 3)",
     "output_type": "error",
     "traceback": [
      "\u001b[1;36m  Cell \u001b[1;32mIn[1], line 3\u001b[1;36m\u001b[0m\n\u001b[1;33m    \u001b[0m\n\u001b[1;37m    ^\u001b[0m\n\u001b[1;31mSyntaxError\u001b[0m\u001b[1;31m:\u001b[0m incomplete input\n"
     ]
    }
   ],
   "source": [
    "class Perceptron:\n",
    "    def __init__(self):\n",
    "        self.weight = None\n",
    "        self.update = None\n",
    "        self.bias = None\n",
    "        self.LR = 0.01\n",
    "    def ActivationFunction(self,threshold):\n",
    "        return np.where(threshold>0,1,-1)\n",
    "    def fit(self,X,y):\n",
    "        self.weight = np.zeros(X.shape[1])\n",
    "        self.bias = 0\n",
    "        y_ = np.array([1 if i > 0 else -1 for i in y])\n",
    "        for idx, x_i in enumerate(X):\n",
    "            \n",
    "            threshold = x_i@self.weight + self.bias\n",
    "            ActivationFunctionBool = self.ActivationFunction(threshold)\n",
    "            self.update = (y_[idx]-ActivationFunctionBool)*self.LR\n",
    "            self.weight += self.update*x_i\n",
    "            self.bias += self.update\n",
    "\n",
    "    def predict(self,X_train):\n",
    "        threshold_train = X_train@self.weight\n",
    "        y_predict = self.ActivationFunction(threshold_train)\n",
    "        return y_predict\n",
    "    \n",
    "        \n",
    "\n",
    "            \n",
    "\n"
   ]
  },
  {
   "cell_type": "code",
   "execution_count": 3,
   "metadata": {},
   "outputs": [],
   "source": [
    "X = np.array([[2, 3], [4, 5], [1, 0], [1, 1], [3, 4], [2, 2]])"
   ]
  },
  {
   "cell_type": "code",
   "execution_count": 6,
   "metadata": {},
   "outputs": [
    {
     "name": "stdout",
     "output_type": "stream",
     "text": [
      "0\n",
      "[2 3]\n",
      "1\n",
      "[4 5]\n",
      "2\n",
      "[1 0]\n",
      "3\n",
      "[1 1]\n",
      "4\n",
      "[3 4]\n",
      "5\n",
      "[2 2]\n"
     ]
    },
    {
     "data": {
      "text/plain": [
       "2"
      ]
     },
     "execution_count": 6,
     "metadata": {},
     "output_type": "execute_result"
    }
   ],
   "source": [
    "for idx, x_i in enumerate(X):\n",
    "    print(idx)\n",
    "    print(x_i)\n",
    "X.shape[]"
   ]
  },
  {
   "cell_type": "code",
   "execution_count": null,
   "metadata": {},
   "outputs": [],
   "source": []
  }
 ],
 "metadata": {
  "kernelspec": {
   "display_name": "base",
   "language": "python",
   "name": "python3"
  },
  "language_info": {
   "codemirror_mode": {
    "name": "ipython",
    "version": 3
   },
   "file_extension": ".py",
   "mimetype": "text/x-python",
   "name": "python",
   "nbconvert_exporter": "python",
   "pygments_lexer": "ipython3",
   "version": "3.10.9"
  }
 },
 "nbformat": 4,
 "nbformat_minor": 2
}
