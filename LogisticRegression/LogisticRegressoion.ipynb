{
 "cells": [
  {
   "cell_type": "code",
   "execution_count": 1,
   "metadata": {},
   "outputs": [],
   "source": [
    "import numpy as np"
   ]
  },
  {
   "cell_type": "code",
   "execution_count": null,
   "metadata": {},
   "outputs": [],
   "source": [
    "class LogisticRegression():\n",
    "    def __init__(self,LR=0.01,n_iter = 1000):\n",
    "        self.LR = LR\n",
    "        self.n_iter = n_iter\n",
    "        self.bias = None\n",
    "        self.weight = None\n",
    "    def _sigmoid(self,z):\n",
    "        return 1/(1+np.exp(-z))\n",
    "    def fit(self,X,y):\n",
    "        n_sample,n_features = X.shape\n",
    "        self.weight = np.zeros(n_features)\n",
    "        self.bias = 0\n",
    "\n",
    "        for _ in range(self.n_iter):\n",
    "            linear_ans = X @ self.weight + self.bias\n",
    "            y_predict = self._sigmoid(linear_ans)\n",
    "\n",
    "            δw = (1/n_sample)*(np.dot(X.T,y_predict-y))\n",
    "            δb = (1/n_sample)*(np.sum(y_predict - y))\n",
    "\n",
    "            self.weight -= δw*self.LR\n",
    "            self.bias -= δb*self.LR\n",
    "\n",
    "    def predict(self,X):\n",
    "        linear_ans = np.dot(X,self.weight) + self.bias\n",
    "        y_predict = self._sigmoid(linear_ans)\n",
    "        y_predict_class = [1 if i > 0.5 else 0 for i in y_predict]\n",
    "        return y_predict_class\n",
    "    \n",
    "\n"
   ]
  }
 ],
 "metadata": {
  "kernelspec": {
   "display_name": "base",
   "language": "python",
   "name": "python3"
  },
  "language_info": {
   "codemirror_mode": {
    "name": "ipython",
    "version": 3
   },
   "file_extension": ".py",
   "mimetype": "text/x-python",
   "name": "python",
   "nbconvert_exporter": "python",
   "pygments_lexer": "ipython3",
   "version": "3.10.9"
  }
 },
 "nbformat": 4,
 "nbformat_minor": 2
}
