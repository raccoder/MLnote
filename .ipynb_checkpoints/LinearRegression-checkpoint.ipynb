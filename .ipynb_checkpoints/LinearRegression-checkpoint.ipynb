{
 "cells": [
  {
   "cell_type": "code",
   "execution_count": null,
   "id": "84a526ed",
   "metadata": {},
   "outputs": [],
   "source": [
    "import numpy as np\n",
    "class LinearRegression:\n",
    "    def __init__(self):\n",
    "        self.a = None\n",
    "        self.b = None\n",
    "    def fit(self,X,y):\n",
    "        X = np.array(X)\n",
    "        y = np.array(y)\n",
    "        X_mean = np.mean(X)\n",
    "        y_mean = np.mean(y)\n",
    "        X_var  = np.mean(X*X) - (X_mean**2)\n",
    "        Xy_cov = np.mean(X*y) - (X_mean*y_mean)\n",
    "        self.a =  Xy_cov / X_var\n",
    "        self.b = y_mean - self.a*X_mean\n",
    "    def predict(self,X):\n",
    "        return self.b + self.a*np.array(X)\n",
    "    def coefficients(self):\n",
    "        return (self.a, self.b)\n",
    "    "
   ]
  }
 ],
 "metadata": {
  "kernelspec": {
   "display_name": "Python 3 (ipykernel)",
   "language": "python",
   "name": "python3"
  },
  "language_info": {
   "codemirror_mode": {
    "name": "ipython",
    "version": 3
   },
   "file_extension": ".py",
   "mimetype": "text/x-python",
   "name": "python",
   "nbconvert_exporter": "python",
   "pygments_lexer": "ipython3",
   "version": "3.10.9"
  }
 },
 "nbformat": 4,
 "nbformat_minor": 5
}
